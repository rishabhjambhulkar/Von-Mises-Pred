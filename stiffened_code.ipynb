{
 "cells": [
  {
   "cell_type": "code",
   "execution_count": 8,
   "id": "259efdfb",
   "metadata": {},
   "outputs": [],
   "source": [
    "import pandas as pd\n",
    "import numpy as np\n",
    "E = 205 * 10**3\n",
    "sy=951\n",
    "data = []\n",
    "for l in range(4000, 10001,100):   # mm\n",
    "    for r in range(4000, 8001,100):  # mm\n",
    "        for h in range(300,1001,50):  # m\n",
    "            Pd = 1025 * 9.81 * h * 10**(-6)    # Mpa\n",
    "\n",
    "            t = (1.5 * r * Pd) / sy\n",
    "            Ls = 1.85 * np.sqrt(r * t)\n",
    "\n",
    "            Ic = (Pd * (r ** 3) * Ls) / E\n",
    "            n = 3\n",
    "            u = (np.pi * r) / l\n",
    "\n",
    "            Pn = (((n ** 2 - 1) * E * Ic) / ((r ** 3) * Ls) + ((E * t / r) / ((n ** 2 - 1 + (u ** 2) / 2) * (n ** 2 / u ** 2 + 1) ** 2)))\n",
    "\n",
    "\n",
    "            data.append([l, r, t, Ic, h ,Ls,Pd, Pn])\n",
    "\n"
   ]
  },
  {
   "cell_type": "code",
   "execution_count": 12,
   "id": "e29d37f0",
   "metadata": {},
   "outputs": [],
   "source": [
    "df = pd.DataFrame(data, columns=['l', 'r', 't', 'Ic', 'h', 'Ls','Pd', 'Pn'])\n",
    "df.head()\n",
    "df.to_csv('stiffened_data.csv', index=False)"
   ]
  }
 ],
 "metadata": {
  "kernelspec": {
   "display_name": "Python 3 (ipykernel)",
   "language": "python",
   "name": "python3"
  },
  "language_info": {
   "codemirror_mode": {
    "name": "ipython",
    "version": 3
   },
   "file_extension": ".py",
   "mimetype": "text/x-python",
   "name": "python",
   "nbconvert_exporter": "python",
   "pygments_lexer": "ipython3",
   "version": "3.9.12"
  }
 },
 "nbformat": 4,
 "nbformat_minor": 5
}
